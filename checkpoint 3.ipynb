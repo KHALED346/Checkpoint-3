{
 "cells": [
  {
   "cell_type": "code",
   "execution_count": 15,
   "id": "580285b8",
   "metadata": {
    "scrolled": true
   },
   "outputs": [
    {
     "name": "stdout",
     "output_type": "stream",
     "text": [
      "48\n"
     ]
    }
   ],
   "source": [
    "# Question 1 \n",
    "\n",
    "\n",
    "import math            # i searched about (import math) but i don't know what is this function do i hope we discuss that \n",
    "\n",
    "my_list = [2, 4, 6]\n",
    "\n",
    "result = math.prod(my_list)\n",
    "print(result) \n"
   ]
  },
  {
   "cell_type": "code",
   "execution_count": null,
   "id": "615b8320",
   "metadata": {},
   "outputs": [],
   "source": [
    "# Question 2\n",
    "\n",
    "def last(n):\n",
    "    return n[-1] \n",
    "  \n",
    "def sort(tuples):\n",
    "    return sorted(tuples, key=last)     #from google\n",
    "\n",
    "\n",
    "my_list =  [(2, 5), (1, 2), (4, 4), (2, 3), (2, 1)]\n",
    "\n",
    "\n",
    "\n",
    "print(sort(my_list))"
   ]
  },
  {
   "cell_type": "code",
   "execution_count": 17,
   "id": "c3d0fb60",
   "metadata": {},
   "outputs": [
    {
     "name": "stdout",
     "output_type": "stream",
     "text": [
      "{'num1': 78, 'num2': 2490, 'num3': 153}\n"
     ]
    }
   ],
   "source": [
    "# Question 3\n",
    "\n",
    "dict1 = {'num1': 18, 'num2': 250, 'num3': 6}\n",
    "dict2 = {'num1': 60, 'num2': 2240, 'num3': 147}\n",
    " \n",
    " \n",
    "\n",
    "for key in dict2:\n",
    "    if key in dict1:\n",
    "        dict2[key] = dict2[key] + dict1[key]\n",
    "    else:\n",
    "        pass\n",
    "         \n",
    "print(dict2)"
   ]
  },
  {
   "cell_type": "code",
   "execution_count": 18,
   "id": "155e2fd4",
   "metadata": {},
   "outputs": [
    {
     "name": "stdout",
     "output_type": "stream",
     "text": [
      "12\n",
      "{1: 1, 2: 4, 3: 9, 4: 16, 5: 25, 6: 36, 7: 49, 8: 64, 9: 81, 10: 100, 11: 121, 12: 144}\n"
     ]
    }
   ],
   "source": [
    "# Question 4\n",
    "\n",
    "number = int(input())\n",
    "\n",
    "numberDict = {}\n",
    "for i in range(1, number+1):    # i had some problems in this line ,so i searsh it\n",
    "    numberDict[i] = i*i\n",
    "\n",
    "print(numberDict)"
   ]
  },
  {
   "cell_type": "code",
   "execution_count": 19,
   "id": "93440678",
   "metadata": {},
   "outputs": [
    {
     "name": "stdout",
     "output_type": "stream",
     "text": [
      "Sorted:\n",
      "[('item2', '12.20'), ('item1', '15.10'), ('item3', '24.5')]\n"
     ]
    }
   ],
   "source": [
    "# Question 5\n",
    "\n",
    "\n",
    "def last(n):\n",
    "    return n[-1] \n",
    "  \n",
    "def sort(tuples):\n",
    "    return sorted(tuples, key=last)     #from google\n",
    "\n",
    "\n",
    "my_list = [('item1', '15.10'), ('item2', '12.20'), ('item3', '24.5')]\n",
    "\n",
    "\n",
    "print (\"Sorted:\")\n",
    "print(sort(my_list))\n",
    "\n"
   ]
  },
  {
   "cell_type": "code",
   "execution_count": null,
   "id": "2ad937d6",
   "metadata": {},
   "outputs": [],
   "source": [
    "# Question 6\n",
    "\n",
    "\n",
    "\n",
    "user_list = set()\n",
    "\n",
    "for x in range(int(input(\"enter the number of elements you want to add\"))) :\n",
    "    s = input()\n",
    "    user_list.add(s)\n",
    "\n",
    "print(user_list)\n",
    "\n"
   ]
  },
  {
   "cell_type": "code",
   "execution_count": null,
   "id": "8e4e133e",
   "metadata": {},
   "outputs": [],
   "source": []
  }
 ],
 "metadata": {
  "kernelspec": {
   "display_name": "Python 3 (ipykernel)",
   "language": "python",
   "name": "python3"
  },
  "language_info": {
   "codemirror_mode": {
    "name": "ipython",
    "version": 3
   },
   "file_extension": ".py",
   "mimetype": "text/x-python",
   "name": "python",
   "nbconvert_exporter": "python",
   "pygments_lexer": "ipython3",
   "version": "3.10.9"
  }
 },
 "nbformat": 4,
 "nbformat_minor": 5
}
